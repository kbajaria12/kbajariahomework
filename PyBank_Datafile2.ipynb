{
 "cells": [
  {
   "cell_type": "code",
   "execution_count": 2,
   "metadata": {},
   "outputs": [
    {
     "ename": "IndentationError",
     "evalue": "expected an indented block (<ipython-input-2-32812cbde0f6>, line 4)",
     "output_type": "error",
     "traceback": [
      "\u001b[0;36m  File \u001b[0;32m\"<ipython-input-2-32812cbde0f6>\"\u001b[0;36m, line \u001b[0;32m4\u001b[0m\n\u001b[0;31m    file=csv.reader(csvfile, delimiter=\",\")\u001b[0m\n\u001b[0m       ^\u001b[0m\n\u001b[0;31mIndentationError\u001b[0m\u001b[0;31m:\u001b[0m expected an indented block\n"
     ]
    }
   ],
   "source": [
    "import os\n",
    "import csv\n",
    "with open('budget_data_1.csv') as csvfile:\n",
    "file=csv.reader(csvfile, delimiter=\",\")\n",
    "print(row[0])\n",
    "print(row[1])"
   ]
  },
  {
   "cell_type": "code",
   "execution_count": 4,
   "metadata": {},
   "outputs": [
    {
     "ename": "NameError",
     "evalue": "name 'row' is not defined",
     "output_type": "error",
     "traceback": [
      "\u001b[0;31m---------------------------------------------------------------------------\u001b[0m",
      "\u001b[0;31mNameError\u001b[0m                                 Traceback (most recent call last)",
      "\u001b[0;32m<ipython-input-4-336a38b87698>\u001b[0m in \u001b[0;36m<module>\u001b[0;34m()\u001b[0m\n\u001b[1;32m      3\u001b[0m \u001b[0;32mwith\u001b[0m \u001b[0mopen\u001b[0m\u001b[0;34m(\u001b[0m\u001b[0;34m'budget_data_1.csv'\u001b[0m\u001b[0;34m)\u001b[0m \u001b[0;32mas\u001b[0m \u001b[0mcsvfile\u001b[0m\u001b[0;34m:\u001b[0m\u001b[0;34m\u001b[0m\u001b[0m\n\u001b[1;32m      4\u001b[0m     \u001b[0mfile\u001b[0m\u001b[0;34m=\u001b[0m\u001b[0mcsv\u001b[0m\u001b[0;34m.\u001b[0m\u001b[0mreader\u001b[0m\u001b[0;34m(\u001b[0m\u001b[0mcsvfile\u001b[0m\u001b[0;34m,\u001b[0m \u001b[0mdelimiter\u001b[0m\u001b[0;34m=\u001b[0m\u001b[0;34m\",\"\u001b[0m\u001b[0;34m)\u001b[0m\u001b[0;34m\u001b[0m\u001b[0m\n\u001b[0;32m----> 5\u001b[0;31m     \u001b[0mprint\u001b[0m\u001b[0;34m(\u001b[0m\u001b[0mrow\u001b[0m\u001b[0;34m[\u001b[0m\u001b[0;36m0\u001b[0m\u001b[0;34m]\u001b[0m\u001b[0;34m)\u001b[0m\u001b[0;34m\u001b[0m\u001b[0m\n\u001b[0m\u001b[1;32m      6\u001b[0m     \u001b[0mprint\u001b[0m\u001b[0;34m(\u001b[0m\u001b[0mrow\u001b[0m\u001b[0;34m[\u001b[0m\u001b[0;36m1\u001b[0m\u001b[0;34m]\u001b[0m\u001b[0;34m)\u001b[0m\u001b[0;34m\u001b[0m\u001b[0m\n",
      "\u001b[0;31mNameError\u001b[0m: name 'row' is not defined"
     ]
    }
   ],
   "source": [
    "import os\n",
    "import csv\n",
    "\n",
    "file_data1 = open('budget_data_1.csv') as csvfile\n",
    "\n",
    "    file=csv.reader(csvfile, delimiter=\",\")\n",
    "    print(row[0])\n",
    "    print(row[1])"
   ]
  },
  {
   "cell_type": "code",
   "execution_count": 1,
   "metadata": {},
   "outputs": [
    {
     "name": "stdout",
     "output_type": "stream",
     "text": [
      "Financial Analysis\n",
      "------------------\n",
      "Total Months:  86\n",
      "Total Revenue Change:  -506201\n",
      "Total Revenue:  36973911\n",
      "Average Revenue Change:  -5955.305882352941\n",
      "Greatest Increase in Revenue:  1645140\n",
      "Greatest Decrease in Revenue:  -1947745\n"
     ]
    }
   ],
   "source": [
    "import os\n",
    "import csv\n",
    "\n",
    "fileData1Name='budget_data_2.csv'\n",
    "\n",
    "# Open file as csv and load into a list\n",
    "fileData1=open(fileData1Name)\n",
    "readerData1=csv.reader(fileData1, delimiter=\",\")\n",
    "listData1=list(readerData1)\n",
    "\n",
    "# Print headings\n",
    "print ('Financial Analysis')\n",
    "print ('------------------')\n",
    "\n",
    "# Initialize accumulators and counters\n",
    "RowCount=0\n",
    "TotalRevenue=0\n",
    "CurrentRow=0\n",
    "CurrentRevenue=0\n",
    "PreviousRevenue=0\n",
    "CurrentRevenueChange=0\n",
    "TotalRevenueChange=0\n",
    "MaxRevenueChange=0\n",
    "MinRevenueChange=0\n",
    "MeanRevenueChange=0\n",
    "TotalRevenueChanges=0\n",
    "\n",
    "# Determine total rows of data\n",
    "RowCount=len(listData1)\n",
    "\n",
    "# Month count is the total rows minus the header row\n",
    "MonthCount=RowCount-1\n",
    "print(\"Total Months: \", MonthCount)\n",
    "\n",
    "# Set up file iterator\n",
    "for CurrentRow in range(1,RowCount):\n",
    "    CurrentRevenue = int(listData1[CurrentRow][1])\n",
    "    \n",
    "    # Accumulate total revenue\n",
    "    TotalRevenue = TotalRevenue + CurrentRevenue\n",
    "    \n",
    "    # Accumlate revenue change and track min and max if we are not on the first month\n",
    "    if CurrentRow != 1:\n",
    "        CurrentRevenueChange = CurrentRevenue - PreviousRevenue\n",
    "        TotalRevenueChange = TotalRevenueChange + CurrentRevenueChange\n",
    "        \n",
    "        # Reset previous revenue\n",
    "        PreviousRevenue = CurrentRevenue\n",
    "        \n",
    "        # Determine max\n",
    "        if CurrentRevenueChange > MaxRevenueChange:\n",
    "            MaxRevenueChange = CurrentRevenueChange\n",
    "            \n",
    "        # Determine min\n",
    "        if CurrentRevenueChange < MinRevenueChange:\n",
    "            MinRevenueChange = CurrentRevenueChange\n",
    "            \n",
    "    # If we are on the first month, set the previous month revenue to current\n",
    "    else:\n",
    "        PreviousRevenue=CurrentRevenue\n",
    "            \n",
    "# End file iterator\n",
    "            \n",
    "# Determine mean revenue change\n",
    "TotalRevenueChanges = MonthCount-1\n",
    "MeanRevenueChange = TotalRevenueChange / TotalRevenueChanges\n",
    "\n",
    "# Output results\n",
    "print(\"Total Revenue Change: \", TotalRevenueChange)\n",
    "print(\"Total Revenue: \", TotalRevenue)\n",
    "print(\"Average Revenue Change: \", MeanRevenueChange)\n",
    "print(\"Greatest Increase in Revenue: \", MaxRevenueChange)\n",
    "print(\"Greatest Decrease in Revenue: \", MinRevenueChange)"
   ]
  },
  {
   "cell_type": "code",
   "execution_count": null,
   "metadata": {
    "collapsed": true
   },
   "outputs": [],
   "source": []
  }
 ],
 "metadata": {
  "kernelspec": {
   "display_name": "Python 3",
   "language": "python",
   "name": "python3"
  },
  "language_info": {
   "codemirror_mode": {
    "name": "ipython",
    "version": 3
   },
   "file_extension": ".py",
   "mimetype": "text/x-python",
   "name": "python",
   "nbconvert_exporter": "python",
   "pygments_lexer": "ipython3",
   "version": "3.6.1"
  }
 },
 "nbformat": 4,
 "nbformat_minor": 2
}
